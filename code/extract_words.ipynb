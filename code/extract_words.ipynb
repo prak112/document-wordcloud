{
 "metadata": {
  "language_info": {
   "codemirror_mode": {
    "name": "ipython",
    "version": 3
   },
   "file_extension": ".py",
   "mimetype": "text/x-python",
   "name": "python",
   "nbconvert_exporter": "python",
   "pygments_lexer": "ipython3",
   "version": "3.8.5"
  },
  "orig_nbformat": 2,
  "kernelspec": {
   "name": "python385jvsc74a57bd0c6e04f7a5ac130eeb20013286f1255cff64e2a49ad6e6267f06a989cb4e99f9c",
   "display_name": "Python 3.8.5 64-bit ('py3x-tf2x': conda)"
  }
 },
 "nbformat": 4,
 "nbformat_minor": 2,
 "cells": [
  {
   "cell_type": "code",
   "execution_count": 1,
   "metadata": {},
   "outputs": [],
   "source": [
    "# import essential libraries\n",
    "import PyPDF2\n",
    "import re"
   ]
  },
  {
   "cell_type": "code",
   "execution_count": 5,
   "metadata": {},
   "outputs": [
    {
     "output_type": "stream",
     "name": "stdout",
     "text": [
      "Total pages:  18\n"
     ]
    }
   ],
   "source": [
    "# extract text from pages\n",
    "fhand = open('D:\\GitHub_Projects\\gybn-pb-insights\\dataset\\PolicyBrief_Nature-based-Solutions.pdf', 'rb')\n",
    "file_data = PyPDF2.PdfFileReader(fhand, strict=False)\n",
    "print('Total pages: ', file_data.numPages)"
   ]
  },
  {
   "cell_type": "code",
   "execution_count": 10,
   "metadata": {},
   "outputs": [
    {
     "output_type": "stream",
     "name": "stdout",
     "text": [
      "Total Characters in Report:  24803\n"
     ]
    }
   ],
   "source": [
    "page_range = list(range(3, 12))\n",
    "raw_data = []\n",
    "total_chars = []\n",
    "for page in page_range:\n",
    "    data = file_data.getPage(page).extractText()\n",
    "    raw_data.append(data)\n",
    "    total_chars.append(len(data))\n",
    "\n",
    "print('Total Characters in Report: ',sum(total_chars))"
   ]
  },
  {
   "cell_type": "code",
   "execution_count": 21,
   "metadata": {},
   "outputs": [
    {
     "output_type": "execute_result",
     "data": {
      "text/plain": [
       "{'3The': 1,\n",
       " 'term': 1,\n",
       " 'ﬁNature-based': 1,\n",
       " 'Solutionsﬂ': 1,\n",
       " '(NbS)': 1,\n",
       " 'started': 1,\n",
       " 'being': 2,\n",
       " 'used': 1,\n",
       " 'in': 1,\n",
       " 'the': 1,\n",
       " 'late': 1,\n",
       " '2000s,': 1,\n",
       " '˜rst': 1,\n",
       " 'put': 1,\n",
       " 'forward': 1,\n",
       " 'by': 1,\n",
       " 'practitioners': 1,\n",
       " 'as': 1}"
      ]
     },
     "metadata": {},
     "execution_count": 21
    }
   ],
   "source": [
    "# 1st page 1st line word-counter Test\n",
    "page1_1 = raw_data[0].split('\\n')[0].split()\n",
    "count_dict = {}\n",
    "for word in page1_1:\n",
    "    count_dict[word] = count_dict.get(word, 0) + 1\n",
    "count_dict"
   ]
  },
  {
   "cell_type": "code",
   "execution_count": 44,
   "metadata": {},
   "outputs": [
    {
     "output_type": "stream",
     "name": "stdout",
     "text": [
      "Common Word : and, Counter : 22\n"
     ]
    }
   ],
   "source": [
    "# 1st page all lines word-counter Test\n",
    "page1 = raw_data[0].split('\\n')\n",
    "page1 = [word for sent in page1 for word in sent.split() if word != '']\n",
    "counter_dict = {}\n",
    "for word in page1:\n",
    "    counter_dict[word] = counter_dict.get(word, 0) + 1\n",
    "print(f\"Common Word : {list(counter_dict.keys())[list(counter_dict.values()).index(max(counter_dict.values()))]}, Counter : {max(counter_dict.values())}\")"
   ]
  },
  {
   "cell_type": "code",
   "execution_count": null,
   "metadata": {},
   "outputs": [],
   "source": []
  }
 ]
}