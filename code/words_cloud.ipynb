{
 "metadata": {
  "language_info": {
   "codemirror_mode": {
    "name": "ipython",
    "version": 3
   },
   "file_extension": ".py",
   "mimetype": "text/x-python",
   "name": "python",
   "nbconvert_exporter": "python",
   "pygments_lexer": "ipython3",
   "version": "3.8.5"
  },
  "orig_nbformat": 2,
  "kernelspec": {
   "name": "python385jvsc74a57bd0c6e04f7a5ac130eeb20013286f1255cff64e2a49ad6e6267f06a989cb4e99f9c",
   "display_name": "Python 3.8.5 64-bit ('py3x-tf2x': conda)"
  }
 },
 "nbformat": 4,
 "nbformat_minor": 2,
 "cells": [
  {
   "cell_type": "code",
   "execution_count": 1,
   "metadata": {},
   "outputs": [
    {
     "output_type": "stream",
     "name": "stdout",
     "text": [
      "Installation Complete!\n"
     ]
    }
   ],
   "source": [
    "# install needed library\n",
    "try:\n",
    "    #!pip install wordcloud --quiet\n",
    "    print('Installation Complete!')\n",
    "except:\n",
    "    print('Check out the errors!!')"
   ]
  },
  {
   "cell_type": "code",
   "execution_count": 3,
   "metadata": {},
   "outputs": [],
   "source": [
    "# import essential libraries\n",
    "import pickle\n",
    "import numpy as np\n",
    "import pandas as pd\n",
    "import wordcloud\n",
    "\n",
    "import matplotlib.pyplot as plt\n",
    "%matplotlib inline"
   ]
  },
  {
   "source": [
    "### Load Saved File into DataFrame"
   ],
   "cell_type": "markdown",
   "metadata": {}
  },
  {
   "cell_type": "code",
   "execution_count": 20,
   "metadata": {},
   "outputs": [
    {
     "output_type": "execute_result",
     "data": {
      "text/plain": [
       "            Word  Count\n",
       "0           term      7\n",
       "1  \"Nature-based      6\n",
       "2     Solutions\"      5\n",
       "3          (NbS)      1\n",
       "4        started      1"
      ],
      "text/html": "<div>\n<style scoped>\n    .dataframe tbody tr th:only-of-type {\n        vertical-align: middle;\n    }\n\n    .dataframe tbody tr th {\n        vertical-align: top;\n    }\n\n    .dataframe thead th {\n        text-align: right;\n    }\n</style>\n<table border=\"1\" class=\"dataframe\">\n  <thead>\n    <tr style=\"text-align: right;\">\n      <th></th>\n      <th>Word</th>\n      <th>Count</th>\n    </tr>\n  </thead>\n  <tbody>\n    <tr>\n      <th>0</th>\n      <td>term</td>\n      <td>7</td>\n    </tr>\n    <tr>\n      <th>1</th>\n      <td>\"Nature-based</td>\n      <td>6</td>\n    </tr>\n    <tr>\n      <th>2</th>\n      <td>Solutions\"</td>\n      <td>5</td>\n    </tr>\n    <tr>\n      <th>3</th>\n      <td>(NbS)</td>\n      <td>1</td>\n    </tr>\n    <tr>\n      <th>4</th>\n      <td>started</td>\n      <td>1</td>\n    </tr>\n  </tbody>\n</table>\n</div>"
     },
     "metadata": {},
     "execution_count": 20
    }
   ],
   "source": [
    "counter_dict = pd.read_pickle('D:\\GitHub_Projects\\gybn-pb-insights\\output\\counter_Nbs.pkl')    # unpack file\n",
    "\n",
    "words = list(counter_dict.keys())       # list & zip elements  \n",
    "counter = list(counter_dict.values())\n",
    "df_data = list(zip(words, counter))\n",
    "\n",
    "counter_df = pd.DataFrame(data=df_data, columns=['Word','Count'])   # define data structure\n",
    "counter_df.head()"
   ]
  },
  {
   "cell_type": "code",
   "execution_count": 21,
   "metadata": {},
   "outputs": [
    {
     "output_type": "stream",
     "name": "stdout",
     "text": [
      "<class 'pandas.core.frame.DataFrame'>\nRangeIndex: 1412 entries, 0 to 1411\nData columns (total 2 columns):\n #   Column  Non-Null Count  Dtype \n---  ------  --------------  ----- \n 0   Word    1412 non-null   object\n 1   Count   1412 non-null   int64 \ndtypes: int64(1), object(1)\nmemory usage: 22.2+ KB\n"
     ]
    }
   ],
   "source": [
    "counter_df.info()"
   ]
  },
  {
   "cell_type": "code",
   "execution_count": 26,
   "metadata": {},
   "outputs": [
    {
     "output_type": "stream",
     "name": "stdout",
     "text": [
      "The Top 5 Words are:\n\n              Word  Count\n121           NbS     53\n31        climate     25\n467        carbon     17\n37   biodiversity     12\n52        natural     12\n"
     ]
    }
   ],
   "source": [
    "print(\"The Top 5 Words are:\\n\\n\",counter_df.nlargest(5, 'Count'))"
   ]
  },
  {
   "cell_type": "code",
   "execution_count": null,
   "metadata": {},
   "outputs": [],
   "source": []
  }
 ]
}