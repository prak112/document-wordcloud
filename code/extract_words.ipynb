{
 "metadata": {
  "language_info": {
   "codemirror_mode": {
    "name": "ipython",
    "version": 3
   },
   "file_extension": ".py",
   "mimetype": "text/x-python",
   "name": "python",
   "nbconvert_exporter": "python",
   "pygments_lexer": "ipython3",
   "version": "3.8.5"
  },
  "orig_nbformat": 2,
  "kernelspec": {
   "name": "python385jvsc74a57bd0c6e04f7a5ac130eeb20013286f1255cff64e2a49ad6e6267f06a989cb4e99f9c",
   "display_name": "Python 3.8.5 64-bit ('py3x-tf2x': conda)"
  }
 },
 "nbformat": 4,
 "nbformat_minor": 2,
 "cells": [
  {
   "cell_type": "code",
   "execution_count": 10,
   "metadata": {},
   "outputs": [],
   "source": [
    "# import essential libraries\n",
    "import PyPDF2\n",
    "import re"
   ]
  },
  {
   "cell_type": "code",
   "execution_count": 11,
   "metadata": {},
   "outputs": [
    {
     "output_type": "stream",
     "name": "stdout",
     "text": [
      "Total pages:  18\n"
     ]
    }
   ],
   "source": [
    "# extract text from pages\n",
    "fhand = open('D:\\GitHub_Projects\\gybn-pb-insights\\dataset\\PolicyBrief_Nature-based-Solutions.pdf', 'rb')\n",
    "file_data = PyPDF2.PdfFileReader(fhand, strict=False)\n",
    "print('Total pages: ', file_data.numPages)"
   ]
  },
  {
   "cell_type": "code",
   "execution_count": 12,
   "metadata": {},
   "outputs": [
    {
     "output_type": "stream",
     "name": "stdout",
     "text": [
      "Total Characters in Report:  24803\n"
     ]
    }
   ],
   "source": [
    "page_range = list(range(3, 12)) # pages of interest\n",
    "raw_data = []\n",
    "total_chars = []\n",
    "for page in page_range:\n",
    "    data = file_data.getPage(page).extractText()\n",
    "    raw_data.append(data)\n",
    "    total_chars.append(len(data))\n",
    "\n",
    "print('Total Characters in Report: ',sum(total_chars))"
   ]
  },
  {
   "source": [
    "## Word-Counter, *Test Runs*"
   ],
   "cell_type": "markdown",
   "metadata": {}
  },
  {
   "cell_type": "code",
   "execution_count": 13,
   "metadata": {},
   "outputs": [
    {
     "output_type": "execute_result",
     "data": {
      "text/plain": [
       "{'3The': 1,\n",
       " 'term': 1,\n",
       " 'ﬁNature-based': 1,\n",
       " 'Solutionsﬂ': 1,\n",
       " '(NbS)': 1,\n",
       " 'started': 1,\n",
       " 'being': 2,\n",
       " 'used': 1,\n",
       " 'in': 1,\n",
       " 'the': 1,\n",
       " 'late': 1,\n",
       " '2000s,': 1,\n",
       " '˜rst': 1,\n",
       " 'put': 1,\n",
       " 'forward': 1,\n",
       " 'by': 1,\n",
       " 'practitioners': 1,\n",
       " 'as': 1}"
      ]
     },
     "metadata": {},
     "execution_count": 13
    }
   ],
   "source": [
    "# 1st page 1st line word-counter Test\n",
    "page1_1 = raw_data[0].split('\\n')[0].split()\n",
    "count_dict = {}\n",
    "for word in page1_1:\n",
    "    count_dict[word] = count_dict.get(word, 0) + 1\n",
    "count_dict"
   ]
  },
  {
   "cell_type": "code",
   "execution_count": 14,
   "metadata": {},
   "outputs": [
    {
     "output_type": "stream",
     "name": "stdout",
     "text": [
      "Common Word : and, Counter : 22\n"
     ]
    }
   ],
   "source": [
    "# 1st page all lines word-counter Test\n",
    "page1 = raw_data[0].split('\\n')\n",
    "page1 = [word for sent in page1 for word in sent.split() if word != '']\n",
    "counter_dict = {}\n",
    "for word in page1:\n",
    "    counter_dict[word] = counter_dict.get(word, 0) + 1\n",
    "print(f\"Common Word : {list(counter_dict.keys())[list(counter_dict.values()).index(max(counter_dict.values()))]}, Counter : {max(counter_dict.values())}\")"
   ]
  },
  {
   "source": [
    "## Word-Counter, *full-report including stop-words*"
   ],
   "cell_type": "markdown",
   "metadata": {}
  },
  {
   "cell_type": "code",
   "execution_count": 19,
   "metadata": {},
   "outputs": [
    {
     "output_type": "stream",
     "name": "stdout",
     "text": [
      "Common Word: NbS, Counter : 53\n"
     ]
    }
   ],
   "source": [
    "# All pages all lines word-counter Test\n",
    "pages = []\n",
    "for page_num in range(len(raw_data)):\n",
    "    lines = raw_data[page_num].split('\\n')\n",
    "    page = [word for line in lines for word in line.split() if word != '']\n",
    "    pages.append(page)\n",
    "\n",
    "# Word-counter for all pages, excluding stop_words\n",
    "counter_dict = {}\n",
    "stop_words = ['The','3The','the','It','it','these','this','This','them','their','and','of','more','which','will','by','as','into','other','also','not','an','be','been','can','to','was','at','or','its','in','on','most','such','that','a','is','for','have','used','are','et','al.,','from','with','has']\n",
    "\n",
    "for page in pages:\n",
    "    for word in page:\n",
    "        if word not in stop_words:\n",
    "            counter_dict[word] = counter_dict.get(word, 0) + 1\n",
    "                \n",
    "max_count = max(counter_dict.values()) # collecting maximum counter\n",
    "common_word = list(counter_dict.keys())[list(counter_dict.values()).index(max_count)] # Indexing Keys list to identify maximum Value\n",
    "\n",
    "print(f\"Common Word: {common_word}, Counter : {max_count}\")\n",
    "\n",
    "#Important Words --> 'different','NbS','NbS,','Climate','climate','carbon','biodiversity','natural','solutions','Nature-based','Solutions','ecosystem','ecosystems','Ecosystem','global','Global', 'guidelines','principles','International','IUCN','policy','term','sustainable',#'fossil','potential','fuel','approach', 'de˜nition', 'ﬁNature-based','bene˜ts','Solutionsﬂ','help','organizations','funding','under','land','recent','key','emissions','implementation'"
   ]
  },
  {
   "source": [
    "### Identify & Replace irrelevant characters"
   ],
   "cell_type": "markdown",
   "metadata": {}
  },
  {
   "source": [
    "#### *Test replacement with substitution*"
   ],
   "cell_type": "markdown",
   "metadata": {}
  },
  {
   "source": [
    "sub_dict = {'˜':'fi','ﬁ':'\"','ﬂ':'\"'}\n",
    "sample = ['de˜nition', 'ﬁNature-based','test1','test12','test-mist','bene˜ts','Solutionsﬂ']\n",
    "for k in sub_dict.keys():\n",
    "    for s in sample:\n",
    "        if s.find(k) != -1:\n",
    "            s_new = re.sub(k, sub_dict[k], s)\n",
    "            s_ind = sample.index(s)\n",
    "            s_pop = sample.pop(s_ind)\n",
    "            print(s_new, s_ind, s_pop)\n",
    "            sample.insert(s_ind, s_new)\n",
    "        else:\n",
    "            continue\n",
    "print(sample)"
   ],
   "cell_type": "code",
   "metadata": {},
   "execution_count": 16,
   "outputs": [
    {
     "output_type": "stream",
     "name": "stdout",
     "text": [
      "definition 0 de˜nition\nbenefits 5 bene˜ts\n\"Nature-based 1 ﬁNature-based\nSolutions\" 6 Solutionsﬂ\n['definition', '\"Nature-based', 'test1', 'test12', 'test-mist', 'benefits', 'Solutions\"']\n"
     ]
    }
   ]
  },
  {
   "source": [
    "#### *Implement Test Solution*"
   ],
   "cell_type": "markdown",
   "metadata": {}
  },
  {
   "cell_type": "code",
   "execution_count": 20,
   "metadata": {},
   "outputs": [
    {
     "output_type": "stream",
     "name": "stdout",
     "text": [
      "=======BEFORE SUBSTITUTION:======\n['3The', 'term', 'ﬁNature-based', 'Solutionsﬂ', '(NbS)', 'started', 'being', 'used', 'in', 'the', 'late', '2000s,', 'being', '˜rst', 'put', 'forward', 'by', 'practitioners', 'as', 'the', 'International', 'Union', 'for', 'the', 'Conservation', 'of', 'Nature', 'and', 'the', 'World', 'Bank,', 'and', 'promoted', 'afterwards', 'by', 'policymakers', 'in', 'Europe', '(Eggermont,', 'H.,', 'et', 'al.,', '2015).', 'It', 'was', 'used', 'in', 'the', 'context', 'of', '˜nding', 'new', 'solutions', 'to', 'mitigate', 'and', 'adapt', 'to', 'climate', 'change', 'effects,', 'whilst', 'simultaneously', 'protecting', 'biodiversity', 'and', 'improving', 'sustainable', 'livelihoods.', 'Some', 'of', 'the', 'most', 'widely', 'used', 'de˜nitions', 'are:', 'IUCN', '-', 'International', 'Union', 'for', 'Conservation', 'of', 'Nature', 'ﬁNature-based', 'Solutions', 'are', 'actions', 'to', 'protect,', 'sustainably', 'manage', 'and', 'restore', 'natural', 'and', 'modi˜ed', 'ecosystems', 'in', 'ways', 'that', 'address', 'societal', 'challenges', 'effectively', 'and', 'adaptively,', 'to', 'provide', 'both', 'human', 'well-being', 'and', 'biodiversity', 'bene˜ts.', 'They', 'are', 'underpinned', 'by', 'bene˜ts', 'that', '˚ow', 'from', 'healthy', 'ecosystems', 'and', 'target', 'major', 'challenges', 'like', 'climate', 'change,', 'disaster', 'risk', 'reduction,', 'food', 'and', 'water', 'security,', 'health', 'and', 'are', 'critical', 'to', 'economic', 'development.ﬂ', '(Cohen-', 'Shacham,', '2016)IUCN™s', 'de˜nition', 'is', 'the', 'most', 'widely', 'used', 'among', 'international', 'organizations,', 'especially', 'among', 'civil', 'society.', 'After', 'several', 'rounds', 'of', 'consultation', 'with', 'its', 'members,', 'IUCN', 'has', 'also', 'released', 'a', 'ﬁNature-based', 'Solutions', 'Global', 'Standardﬂ', 'which', 'aims', 'to', 'provide', 'further', 'clarity', 'about', 'the', 'concept™s', 'de˜nition', 'and', 'implementation.', 'The', 'Global', 'Standard', 'sets', 'out', 'the', 'following', 'criteria', 'that', 'must', 'be', 'met', 'in', 'order', 'for', 'an', 'action', 'to', 'be', 'considered', 'as', 'an', 'NbS:', '1.', 'NbS', 'effectively', 'address', 'societal', 'challenges', '2.', 'Design', 'of', 'NbS', 'is', 'informed', 'by', 'scale3.', 'NbS', 'result', 'in', 'a', 'net', 'gain', 'to', 'biodiversity', 'and', 'ecosystem', 'integrity', '4.', 'NbS', 'are', 'economically', 'viable', '5.', 'NbS', 'are', 'based', 'on', 'inclusive,', 'transparent,', 'and', 'empowering', 'gover', 'nance', 'processes', '6.', 'NbS', 'equitably', 'balance', 'trade-offs', 'between', 'achievement', 'of', 'their', 'primary', 'goal(s)', 'and', 'the', 'continued', 'provision', 'of', 'multiple', 'bene˜ts7.', 'NbS', 'are', 'managed', 'adaptively,', 'based', 'on', 'evidence', '8.', 'NbS', 'are', 'sustainable', 'and', 'mainstreamed', 'within', 'an', 'appr', 'opriate', 'jurisdictionEU', '-', 'European', 'Union', 'The', 'Commission', 'de˜nes', 'Nature-based', 'Solutions', 'as', 'ﬁSolutions', 'that', 'are', 'inspired', 'and', 'supported', 'by', 'nature,', 'which', 'are', 'cost-effective,', 'simultaneously', 'provide', 'environmental,', 'social', 'and', 'economic', 'bene˜ts', 'and', 'help', 'build', 'resilience.', 'Such', 'solutions', 'bring', 'more,', 'and', 'more', 'diverse,', 'nature', 'and', 'natural', 'De˜nitions', 'and', 'Proposed', 'Principles', '1Source:', 'IUCN']\n\n=======AFTER SUBSTITUTION:======\n['3The', 'term', '\"Nature-based', 'Solutions\"', '(NbS)', 'started', 'being', 'used', 'in', 'the', 'late', '2000s,', 'being', 'first', 'put', 'forward', 'by', 'practitioners', 'as', 'the', 'International', 'Union', 'for', 'the', 'Conservation', 'of', 'Nature', 'and', 'the', 'World', 'Bank,', 'and', 'promoted', 'afterwards', 'by', 'policymakers', 'in', 'Europe', '(Eggermont,', 'H.,', 'et', 'al.,', '2015).', 'It', 'was', 'used', 'in', 'the', 'context', 'of', 'finding', 'new', 'solutions', 'to', 'mitigate', 'and', 'adapt', 'to', 'climate', 'change', 'effects,', 'whilst', 'simultaneously', 'protecting', 'biodiversity', 'and', 'improving', 'sustainable', 'livelihoods.', 'Some', 'of', 'the', 'most', 'widely', 'used', 'definitions', 'are:', 'IUCN', '-', 'International', 'Union', 'for', 'Conservation', 'of', 'Nature', '\"Nature-based', 'Solutions', 'are', 'actions', 'to', 'protect,', 'sustainably', 'manage', 'and', 'restore', 'natural', 'and', 'modified', 'ecosystems', 'in', 'ways', 'that', 'address', 'societal', 'challenges', 'effectively', 'and', 'adaptively,', 'to', 'provide', 'both', 'human', 'well-being', 'and', 'biodiversity', 'benefits.', 'They', 'are', 'underpinned', 'by', 'benefits', 'that', '˚ow', 'from', 'healthy', 'ecosystems', 'and', 'target', 'major', 'challenges', 'like', 'climate', 'change,', 'disaster', 'risk', 'reduction,', 'food', 'and', 'water', 'security,', 'health', 'and', 'are', 'critical', 'to', 'economic', 'development.\"', '(Cohen-', 'Shacham,', '2016)IUCN™s', 'definition', 'is', 'the', 'most', 'widely', 'used', 'among', 'international', 'organizations,', 'especially', 'among', 'civil', 'society.', 'After', 'several', 'rounds', 'of', 'consultation', 'with', 'its', 'members,', 'IUCN', 'has', 'also', 'released', 'a', '\"Nature-based', 'Solutions', 'Global', 'Standard\"', 'which', 'aims', 'to', 'provide', 'further', 'clarity', 'about', 'the', 'concept™s', 'definition', 'and', 'implementation.', 'The', 'Global', 'Standard', 'sets', 'out', 'the', 'following', 'criteria', 'that', 'must', 'be', 'met', 'in', 'order', 'for', 'an', 'action', 'to', 'be', 'considered', 'as', 'an', 'NbS:', '1.', 'NbS', 'effectively', 'address', 'societal', 'challenges', '2.', 'Design', 'of', 'NbS', 'is', 'informed', 'by', 'scale3.', 'NbS', 'result', 'in', 'a', 'net', 'gain', 'to', 'biodiversity', 'and', 'ecosystem', 'integrity', '4.', 'NbS', 'are', 'economically', 'viable', '5.', 'NbS', 'are', 'based', 'on', 'inclusive,', 'transparent,', 'and', 'empowering', 'gover', 'nance', 'processes', '6.', 'NbS', 'equitably', 'balance', 'trade-offs', 'between', 'achievement', 'of', 'their', 'primary', 'goal(s)', 'and', 'the', 'continued', 'provision', 'of', 'multiple', 'benefits7.', 'NbS', 'are', 'managed', 'adaptively,', 'based', 'on', 'evidence', '8.', 'NbS', 'are', 'sustainable', 'and', 'mainstreamed', 'within', 'an', 'appr', 'opriate', 'jurisdictionEU', '-', 'European', 'Union', 'The', 'Commission', 'defines', 'Nature-based', 'Solutions', 'as', '\"Solutions', 'that', 'are', 'inspired', 'and', 'supported', 'by', 'nature,', 'which', 'are', 'cost-effective,', 'simultaneously', 'provide', 'environmental,', 'social', 'and', 'economic', 'benefits', 'and', 'help', 'build', 'resilience.', 'Such', 'solutions', 'bring', 'more,', 'and', 'more', 'diverse,', 'nature', 'and', 'natural', 'Definitions', 'and', 'Proposed', 'Principles', '1Source:', 'IUCN']\n\n"
     ]
    }
   ],
   "source": [
    "# characters from PDF decoding errors by PyPDF2\n",
    "print(f\"=======BEFORE SUBSTITUTION:======\\n{pages[0]}\\n\")\n",
    "\n",
    "sub_dict = {'˜':'fi','ﬁ':'\"','ﬂ':'\"'} # substitutes for irrelevant characters\n",
    "\n",
    "for sub in sub_dict.keys():\n",
    "    for page in pages:\n",
    "        for word in page:\n",
    "            if word.find(sub) != -1:    # search pattern in word\n",
    "                s_new = re.sub(sub, sub_dict[sub], word) # substitute pattern(key) with substitute(value)\n",
    "                s_ind = page.index(word) \n",
    "                page.remove(word) # remove substituted word\n",
    "                page.insert(s_ind, s_new)   # insert substitute\n",
    "            else:   # search pattern in next word\n",
    "                continue\n",
    "\n",
    "print(f\"=======AFTER SUBSTITUTION:======\\n{pages[0]}\\n\")"
   ]
  },
  {
   "cell_type": "code",
   "execution_count": 18,
   "metadata": {},
   "outputs": [
    {
     "output_type": "stream",
     "name": "stdout",
     "text": [
      "Help on method_descriptor:\n\nremove(self, value, /)\n    Remove first occurrence of value.\n    \n    Raises ValueError if the value is not present.\n\n"
     ]
    }
   ],
   "source": [
    "help(list.remove)"
   ]
  },
  {
   "cell_type": "code",
   "execution_count": null,
   "metadata": {},
   "outputs": [],
   "source": []
  }
 ]
}